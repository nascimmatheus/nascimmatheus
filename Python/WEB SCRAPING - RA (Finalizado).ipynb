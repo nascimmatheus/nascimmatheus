{
 "cells": [
  {
   "cell_type": "code",
   "execution_count": 1,
   "id": "9c9a6d1d",
   "metadata": {},
   "outputs": [],
   "source": [
    "from selenium import webdriver\n",
    "from selenium.webdriver.firefox.options import Options\n",
    "from bs4 import BeautifulSoup as bs\n",
    "from datetime import datetime\n",
    "import pandas as pd\n",
    "import time"
   ]
  },
  {
   "cell_type": "code",
   "execution_count": 2,
   "id": "4ff74846",
   "metadata": {},
   "outputs": [],
   "source": [
    "class Page:\n",
    "        def _init_(self, driver):\n",
    "            self.driver = driver"
   ]
  },
  {
   "cell_type": "code",
   "execution_count": 3,
   "id": "4df65d90",
   "metadata": {},
   "outputs": [],
   "source": [
    "options = Options()\n",
    "options.headless = True\n",
    "\n",
    "link_base = 'https://www.reclameaqui.com.br/empresa/'\n",
    "empresa = 'azul', 'gol', 'latam-airlines-tam', 'cvc-turismo', '123-milhas', 'hotel-urbano', 'maxmilhas'"
   ]
  },
  {
   "cell_type": "code",
   "execution_count": 4,
   "id": "cc89a765",
   "metadata": {},
   "outputs": [],
   "source": [
    "ff = webdriver.Firefox(options=options)\n",
    "ff.get(link_base + empresa[0])\n",
    "html0 = ff.page_source\n",
    "\n",
    "ff.get(link_base + empresa[1])\n",
    "html1 = ff.page_source\n",
    "\n",
    "ff.get(link_base + empresa[2])\n",
    "html2 = ff.page_source\n",
    "\n",
    "ff.get(link_base + empresa[3])\n",
    "html3 = ff.page_source\n",
    "\n",
    "ff.get(link_base + empresa[4])\n",
    "html4 = ff.page_source\n",
    "\n",
    "ff.get(link_base + empresa[5])\n",
    "html5 = ff.page_source\n",
    "\n",
    "ff.get(link_base + empresa[6])\n",
    "html6 = ff.page_source"
   ]
  },
  {
   "cell_type": "code",
   "execution_count": 5,
   "id": "c0de89e6",
   "metadata": {},
   "outputs": [],
   "source": [
    "ReclameAqui_Azul = bs(html0,'html5lib')\n",
    "ReclameAqui_Gol = bs(html1,'html5lib')\n",
    "ReclameAqui_Latam = bs(html2,'html5lib')\n",
    "ReclameAqui_CVC = bs(html3,'html5lib')\n",
    "ReclameAqui_123 = bs(html4,'html5lib')\n",
    "ReclameAqui_hurb = bs(html5,'html5lib')\n",
    "ReclameAqui_Maxm = bs(html6,'html5lib')"
   ]
  },
  {
   "cell_type": "code",
   "execution_count": 6,
   "id": "caa69eed",
   "metadata": {},
   "outputs": [
    {
     "ename": "AttributeError",
     "evalue": "'NoneType' object has no attribute 'find_all'",
     "output_type": "error",
     "traceback": [
      "\u001b[1;31m---------------------------------------------------------------------------\u001b[0m",
      "\u001b[1;31mAttributeError\u001b[0m                            Traceback (most recent call last)",
      "\u001b[1;32m<ipython-input-6-097303914c69>\u001b[0m in \u001b[0;36m<module>\u001b[1;34m\u001b[0m\n\u001b[0;32m      7\u001b[0m \u001b[0mDadosMaxm\u001b[0m \u001b[1;33m=\u001b[0m \u001b[0mReclameAqui_Maxm\u001b[0m\u001b[1;33m.\u001b[0m\u001b[0mfind\u001b[0m\u001b[1;33m(\u001b[0m\u001b[1;34m'div'\u001b[0m\u001b[1;33m,\u001b[0m \u001b[0mattrs\u001b[0m\u001b[1;33m=\u001b[0m\u001b[1;33m{\u001b[0m\u001b[1;34m'class'\u001b[0m\u001b[1;33m:\u001b[0m \u001b[1;34m'sc-1yrkgba-0 cVikyn false'\u001b[0m\u001b[1;33m}\u001b[0m\u001b[1;33m)\u001b[0m\u001b[1;33m\u001b[0m\u001b[1;33m\u001b[0m\u001b[0m\n\u001b[0;32m      8\u001b[0m \u001b[1;33m\u001b[0m\u001b[0m\n\u001b[1;32m----> 9\u001b[1;33m \u001b[0mdadosAzul\u001b[0m \u001b[1;33m=\u001b[0m \u001b[0mDadosAzul\u001b[0m\u001b[1;33m.\u001b[0m\u001b[0mfind_all\u001b[0m\u001b[1;33m(\u001b[0m\u001b[1;34m'span'\u001b[0m\u001b[1;33m)\u001b[0m\u001b[1;33m\u001b[0m\u001b[1;33m\u001b[0m\u001b[0m\n\u001b[0m\u001b[0;32m     10\u001b[0m \u001b[0mdadosGol\u001b[0m \u001b[1;33m=\u001b[0m \u001b[0mDadosGol\u001b[0m\u001b[1;33m.\u001b[0m\u001b[0mfind_all\u001b[0m\u001b[1;33m(\u001b[0m\u001b[1;34m'span'\u001b[0m\u001b[1;33m)\u001b[0m\u001b[1;33m\u001b[0m\u001b[1;33m\u001b[0m\u001b[0m\n\u001b[0;32m     11\u001b[0m \u001b[0mdadosLatam\u001b[0m \u001b[1;33m=\u001b[0m \u001b[0mDadosLatam\u001b[0m\u001b[1;33m.\u001b[0m\u001b[0mfind_all\u001b[0m\u001b[1;33m(\u001b[0m\u001b[1;34m'span'\u001b[0m\u001b[1;33m)\u001b[0m\u001b[1;33m\u001b[0m\u001b[1;33m\u001b[0m\u001b[0m\n",
      "\u001b[1;31mAttributeError\u001b[0m: 'NoneType' object has no attribute 'find_all'"
     ]
    }
   ],
   "source": [
    "DadosAzul = ReclameAqui_Azul.find('div', attrs={'class': 'sc-1yrkgba-0 cVikyn false'})\n",
    "DadosGol = ReclameAqui_Gol.find('div', attrs={'class': 'sc-1yrkgba-0 cVikyn false'})\n",
    "DadosLatam = ReclameAqui_Latam.find('div', attrs={'class': 'sc-1yrkgba-0 cVikyn false'})\n",
    "DadosCVC = ReclameAqui_CVC.find('div', attrs={'class': 'sc-1yrkgba-0 cVikyn false'})\n",
    "Dados123 = ReclameAqui_123.find('div', attrs={'class': 'sc-1yrkgba-0 cVikyn false'})\n",
    "DadosHurb = ReclameAqui_hurb.find('div', attrs={'class': 'sc-1yrkgba-0 cVikyn false'})\n",
    "DadosMaxm = ReclameAqui_Maxm.find('div', attrs={'class': 'sc-1yrkgba-0 cVikyn false'})\n",
    "\n",
    "dadosAzul = DadosAzul.find_all('span')\n",
    "dadosGol = DadosGol.find_all('span')\n",
    "dadosLatam = DadosLatam.find_all('span')\n",
    "dadosCVC = DadosCVC.find_all('span')\n",
    "dados123 = Dados123.find_all('span')\n",
    "dadosHurb = DadosHurb.find_all('span')\n",
    "dadosMaxm = DadosMaxm.find_all('span')\n",
    "\n",
    "repAzul = ReclameAqui_Azul.find('div', attrs={'class': 'info'})\n",
    "repGol = ReclameAqui_Gol.find('div', attrs={'class': 'info'})\n",
    "repLatam = ReclameAqui_Latam.find('div', attrs={'class': 'info'})\n",
    "repCVC = ReclameAqui_CVC.find('div', attrs={'class': 'info'})\n",
    "rep123 = ReclameAqui_123.find('div', attrs={'class': 'info'})\n",
    "repHurb = ReclameAqui_hurb.find('div', attrs={'class': 'info'})\n",
    "repMaxm = ReclameAqui_Maxm.find('div', attrs={'class': 'info'})\n",
    "\n",
    "rrepAzul = repAzul.find_all('span')\n",
    "rrepGol = repGol.find_all('span')\n",
    "rrepLatam = repLatam.find_all('span')\n",
    "rrepCVC = repCVC.find_all('span')\n",
    "rrep123 = rep123.find_all('span')\n",
    "rrepHurb = repHurb.find_all('span')\n",
    "rrepMaxm = repMaxm.find_all('span')\n",
    "\n",
    "titAzul = ReclameAqui_Azul.find('title')\n",
    "titGol = ReclameAqui_Gol.find('title')\n",
    "titLatam = ReclameAqui_Latam.find('title')\n",
    "titCVC = ReclameAqui_CVC.find('title')\n",
    "tit123 = ReclameAqui_123.find('title')\n",
    "titHurb = ReclameAqui_hurb.find('title')\n",
    "titMaxm = ReclameAqui_Maxm.find('title')"
   ]
  },
  {
   "cell_type": "code",
   "execution_count": null,
   "id": "b816b059",
   "metadata": {},
   "outputs": [],
   "source": [
    "print(ReclameAqui_Azul)"
   ]
  },
  {
   "cell_type": "code",
   "execution_count": 7,
   "id": "cc340ec8",
   "metadata": {},
   "outputs": [
    {
     "ename": "NameError",
     "evalue": "name 'titAzul' is not defined",
     "output_type": "error",
     "traceback": [
      "\u001b[1;31m---------------------------------------------------------------------------\u001b[0m",
      "\u001b[1;31mNameError\u001b[0m                                 Traceback (most recent call last)",
      "\u001b[1;32m<ipython-input-7-1d7c1b931197>\u001b[0m in \u001b[0;36m<module>\u001b[1;34m\u001b[0m\n\u001b[1;32m----> 1\u001b[1;33m \u001b[0mtit_Azul\u001b[0m \u001b[1;33m=\u001b[0m \u001b[0mtitAzul\u001b[0m\u001b[1;33m.\u001b[0m\u001b[0mtext\u001b[0m\u001b[1;33m.\u001b[0m\u001b[0mstrip\u001b[0m\u001b[1;33m(\u001b[0m\u001b[1;33m)\u001b[0m\u001b[1;33m\u001b[0m\u001b[1;33m\u001b[0m\u001b[0m\n\u001b[0m\u001b[0;32m      2\u001b[0m \u001b[0mAzulstats\u001b[0m \u001b[1;33m=\u001b[0m \u001b[0mrrepAzul\u001b[0m\u001b[1;33m[\u001b[0m\u001b[1;36m0\u001b[0m\u001b[1;33m]\u001b[0m\u001b[1;33m.\u001b[0m\u001b[0mtext\u001b[0m\u001b[1;33m.\u001b[0m\u001b[0mstrip\u001b[0m\u001b[1;33m(\u001b[0m\u001b[1;33m)\u001b[0m\u001b[1;33m\u001b[0m\u001b[1;33m\u001b[0m\u001b[0m\n\u001b[0;32m      3\u001b[0m \u001b[0mAzulrep\u001b[0m \u001b[1;33m=\u001b[0m \u001b[0mrrepAzul\u001b[0m\u001b[1;33m[\u001b[0m\u001b[1;36m1\u001b[0m\u001b[1;33m]\u001b[0m\u001b[1;33m.\u001b[0m\u001b[0mtext\u001b[0m\u001b[1;33m.\u001b[0m\u001b[0mstrip\u001b[0m\u001b[1;33m(\u001b[0m\u001b[1;33m)\u001b[0m\u001b[1;33m\u001b[0m\u001b[1;33m\u001b[0m\u001b[0m\n\u001b[0;32m      4\u001b[0m \u001b[0mAzulperiod\u001b[0m \u001b[1;33m=\u001b[0m \u001b[0mrrepAzul\u001b[0m\u001b[1;33m[\u001b[0m\u001b[1;36m2\u001b[0m\u001b[1;33m]\u001b[0m\u001b[1;33m.\u001b[0m\u001b[0mtext\u001b[0m\u001b[1;33m.\u001b[0m\u001b[0mstrip\u001b[0m\u001b[1;33m(\u001b[0m\u001b[1;33m)\u001b[0m\u001b[1;33m\u001b[0m\u001b[1;33m\u001b[0m\u001b[0m\n\u001b[0;32m      5\u001b[0m \u001b[0mreclamacoes_respondidas\u001b[0m \u001b[1;33m=\u001b[0m \u001b[0mdadosAzul\u001b[0m\u001b[1;33m[\u001b[0m\u001b[1;36m0\u001b[0m\u001b[1;33m]\u001b[0m\u001b[1;33m.\u001b[0m\u001b[0mtext\u001b[0m\u001b[1;33m.\u001b[0m\u001b[0mstrip\u001b[0m\u001b[1;33m(\u001b[0m\u001b[1;33m)\u001b[0m\u001b[1;33m\u001b[0m\u001b[1;33m\u001b[0m\u001b[0m\n",
      "\u001b[1;31mNameError\u001b[0m: name 'titAzul' is not defined"
     ]
    }
   ],
   "source": [
    "tit_Azul = titAzul.text.strip()\n",
    "Azulstats = rrepAzul[0].text.strip()\n",
    "Azulrep = rrepAzul[1].text.strip()\n",
    "Azulperiod = rrepAzul[2].text.strip()\n",
    "reclamacoes_respondidas = dadosAzul[0].text.strip()\n",
    "Novos_negocios = dadosAzul[1].text.strip()\n",
    "indice_solucao = dadosAzul[2].text.strip()\n",
    "nota = dadosAzul[3].text.strip()\n",
    "\n",
    "tit_Gol = titGol.text.strip()\n",
    "Golstats = rrepGol[0].text.strip()\n",
    "Golrep = rrepGol[1].text.strip()\n",
    "Golperiod = rrepGol[2].text.strip()\n",
    "reclamacoes_respondidas2 = dadosGol[0].text.strip()\n",
    "Novos_negocios2 = dadosGol[1].text.strip()\n",
    "indice_solucao2 = dadosGol[2].text.strip()\n",
    "nota2 = dadosGol[3].text.strip()\n",
    "\n",
    "tit_Latam = titLatam.text.strip()\n",
    "Latamstats = rrepLatam[0].text.strip()\n",
    "Latamrep = rrepLatam[1].text.strip()\n",
    "Latamperiod = rrepLatam[2].text.strip()\n",
    "reclamacoes_respondidas3 = dadosLatam[0].text.strip()\n",
    "Novos_negocios3 = dadosLatam[1].text.strip()\n",
    "indice_solucao3 = dadosLatam[2].text.strip()\n",
    "nota3 = dadosLatam[3].text.strip()\n",
    "\n",
    "tit_CVC = titCVC.text.strip()\n",
    "CVCstats = rrepCVC[0].text.strip()\n",
    "CVCrep = rrepCVC[1].text.strip()\n",
    "CVCperiod = rrepCVC[2].text.strip()\n",
    "reclamacoes_respondidas4 = dadosCVC[0].text.strip()\n",
    "Novos_negocios4 = dadosCVC[1].text.strip()\n",
    "indice_solucao4 = dadosCVC[2].text.strip()\n",
    "nota4 = dadosCVC[3].text.strip()\n",
    "\n",
    "tit_123 = tit123.text.strip()\n",
    "_123stats = rrep123[0].text.strip()\n",
    "_123rep = rrep123[1].text.strip()\n",
    "_123period = rrep123[2].text.strip()\n",
    "reclamacoes_respondidas5 = dados123[0].text.strip()\n",
    "Novos_negocios5 = dados123[1].text.strip()\n",
    "indice_solucao5 = dados123[2].text.strip()\n",
    "nota5 = dados123[3].text.strip()\n",
    "\n",
    "tit_hurb = titHurb.text.strip()\n",
    "Hurbstats = rrepHurb[0].text.strip()\n",
    "Hurbrep = rrepHurb[1].text.strip()\n",
    "Hurbperiod = rrepHurb[2].text.strip()\n",
    "reclamacoes_respondidas6 = dadosHurb[0].text.strip()\n",
    "Novos_negocios6 = dadosHurb[1].text.strip()\n",
    "indice_solucao6 = dadosHurb[2].text.strip()\n",
    "nota6 = dadosHurb[3].text.strip()\n",
    "\n",
    "tit_Maxm = titMaxm.text.strip()\n",
    "Maxmstats = rrepMaxm[0].text.strip()\n",
    "Maxmrep = rrepMaxm[1].text.strip()\n",
    "Maxmperiod = rrepMaxm[2].text.strip()\n",
    "reclamacoes_respondidas7 = dadosMaxm[0].text.strip()\n",
    "Novos_negocios7 = dadosMaxm[1].text.strip()\n",
    "indice_solucao7 = dadosMaxm[2].text.strip()\n",
    "nota7 = dadosMaxm[3].text.strip()"
   ]
  },
  {
   "cell_type": "code",
   "execution_count": null,
   "id": "176d21d9",
   "metadata": {},
   "outputs": [],
   "source": [
    "df_dados = [ [datetime.now(), tit_Azul, Azulstats, Azulrep, Azulperiod, reclamacoes_respondidas, Novos_negocios, indice_solucao, nota],\n",
    "           [datetime.now(), tit_Gol, Golstats, Golrep, Golperiod, reclamacoes_respondidas2, Novos_negocios2, indice_solucao2, nota2],\n",
    "           [datetime.now(), tit_Latam, Latamstats, Latamrep, Latamperiod, reclamacoes_respondidas3, Novos_negocios3, indice_solucao3, nota3],\n",
    "           [datetime.now(), tit_CVC, CVCstats, CVCrep, CVCperiod, reclamacoes_respondidas4, Novos_negocios4, indice_solucao4, nota4],\n",
    "           [datetime.now(), tit_123, _123stats, _123rep, _123period, reclamacoes_respondidas5, Novos_negocios5, indice_solucao5, nota5],\n",
    "           [datetime.now(), tit_hurb, Hurbstats, Hurbrep, Hurbperiod, reclamacoes_respondidas6, Novos_negocios6, indice_solucao6, nota6],\n",
    "           [datetime.now(), tit_Maxm, Maxmstats, Maxmrep, Maxmperiod, reclamacoes_respondidas7, Novos_negocios7, indice_solucao7, nota7]]\n",
    "df = pd.DataFrame(df_dados, columns = ['data da extração', 'Empresa', 'Status', 'Reputação', 'Período', 'Respondidas', 'Novos negocios', 'Solução', 'Nota'])"
   ]
  },
  {
   "cell_type": "code",
   "execution_count": null,
   "id": "c1849c8e",
   "metadata": {},
   "outputs": [],
   "source": [
    "df.sort_values(by= ['Reputação'], inplace=True, ascending=False)"
   ]
  },
  {
   "cell_type": "code",
   "execution_count": null,
   "id": "c78844d4",
   "metadata": {},
   "outputs": [],
   "source": [
    "df.to_excel(r'C:\\Users\\MatheusRibeiro\\Desktop\\OUTPUT.xlsx', 'sheet2')"
   ]
  },
  {
   "cell_type": "code",
   "execution_count": null,
   "id": "891c6558",
   "metadata": {},
   "outputs": [],
   "source": [
    "df"
   ]
  },
  {
   "cell_type": "code",
   "execution_count": null,
   "id": "6f4ab3a2",
   "metadata": {},
   "outputs": [],
   "source": []
  }
 ],
 "metadata": {
  "kernelspec": {
   "display_name": "Python 3",
   "language": "python",
   "name": "python3"
  },
  "language_info": {
   "codemirror_mode": {
    "name": "ipython",
    "version": 3
   },
   "file_extension": ".py",
   "mimetype": "text/x-python",
   "name": "python",
   "nbconvert_exporter": "python",
   "pygments_lexer": "ipython3",
   "version": "3.8.8"
  }
 },
 "nbformat": 4,
 "nbformat_minor": 5
}
